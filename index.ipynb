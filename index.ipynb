{
 "cells": [
  {
   "cell_type": "markdown",
   "metadata": {},
   "source": [
    "# A/B Testing - Lab\n",
    "\n",
    "## Introduction\n",
    "\n",
    "In this lab, you'll go through the process of designing an experiment.\n",
    "\n",
    "## Objectives\n",
    "You will be able to:\n",
    "\n",
    "* Design, structure, and run an A/B test\n",
    "\n",
    "\n",
    "## The Scenario\n",
    "\n",
    "You've been tasked with designing an experiment to test whether a new email template will be more effective for your company's marketing team. The current template has a 5% response rate (with standard deviation .0475), which has outperformed numerous other templates in the past. The company is excited to test the new design that was developed internally but nervous about losing sales if it is not to work out. As a result, they are looking to determine how many individuals they will need to serve the new email template in order to detect a 1% performance increase.\n",
    "\n",
    "\n",
    "## Step 1: State the Null Hypothesis, $H_0$"
   ]
  },
  {
   "cell_type": "markdown",
   "metadata": {},
   "source": [
    "State your null hypothesis here (be sure to make it quantitative as before)"
   ]
  },
  {
   "cell_type": "code",
   "execution_count": null,
   "metadata": {},
   "outputs": [],
   "source": [
    "# H_0 = T_n (new email template) will garner \n",
    "# the same response rate as T_c (current email template)\n",
    "\n",
    "# H_0: Response % of T_n = 5%"
   ]
  },
  {
   "cell_type": "markdown",
   "metadata": {},
   "source": [
    "## Step 2: State the Alternative Hypothesis, $H_1$"
   ]
  },
  {
   "cell_type": "markdown",
   "metadata": {},
   "source": [
    "State your alternative hypothesis here (be sure to make it quantitative as before)"
   ]
  },
  {
   "cell_type": "code",
   "execution_count": null,
   "metadata": {},
   "outputs": [],
   "source": [
    "# H_1 = T_n (new email template) will garner \n",
    "# 1% more responses than T_c (current email template)\n",
    "\n",
    "#H_1: Response % of T_n >= 6%"
   ]
  },
  {
   "cell_type": "markdown",
   "metadata": {},
   "source": [
    "## Step 3: Calculate n for standard alpha and power thresholds\n",
    "\n",
    "Now define what $\\alpha$ and $\\beta$ you believe might be appropriate for this scenario.\n",
    "To start, arbitrarily set $\\alpha$ to 0.05. From this, calculate the required sample size to detect a .01 response rate difference at a power of .8.\n",
    "\n",
    "> Note: Be sure to calculate a normalized effect size using Cohen's d from the raw response rate difference."
   ]
  },
  {
   "cell_type": "code",
   "execution_count": 9,
   "metadata": {},
   "outputs": [],
   "source": [
    "from scipy import stats\n",
    "from statsmodels.stats.power import TTestIndPower, TTestPower\n",
    "import numpy as np\n",
    "import matplotlib.pyplot as plt\n",
    "%matplotlib inline\n"
   ]
  },
  {
   "cell_type": "code",
   "execution_count": 13,
   "metadata": {},
   "outputs": [
    {
     "name": "stdout",
     "output_type": "stream",
     "text": [
      "0.21052631578947367\n"
     ]
    },
    {
     "data": {
      "text/plain": [
       "355.1427544342681"
      ]
     },
     "execution_count": 13,
     "metadata": {},
     "output_type": "execute_result"
    }
   ],
   "source": [
    "# Calculate the required sample size\n",
    "alpha = 0.05\n",
    "power = 0.8\n",
    "raw_effect_size = .01\n",
    "cohen_d = raw_effect_size/0.0475\n",
    "print(cohen_d)\n",
    "\n",
    "power_analysis = TTestIndPower()\n",
    "\n",
    "power_analysis.solve_power(effect_size=cohen_d, alpha=alpha, power=power)"
   ]
  },
  {
   "cell_type": "markdown",
   "metadata": {},
   "source": [
    "## Step 4: Plot Power Curves for Alternative Experiment Formulations\n",
    "\n",
    "While you now know how many observations you need in order to run a t-test for the given formulation above, it is worth exploring what sample sizes would be required for alternative test formulations. For example, how much does the required sample size increase if you put the more stringent criteria of $\\alpha=.01$? Or what is the sample size required to detect a .03 response rate difference at the same $\\alpha$ and power thresholds? To investigate this, plot power vs sample size curves for alpha values of .01, .05 and .1 along with varying response rate differences of .005, .01, .02 and .03."
   ]
  },
  {
   "cell_type": "code",
   "execution_count": 8,
   "metadata": {},
   "outputs": [
    {
     "data": {
      "text/plain": [
       "array([0.10526316, 0.21052632, 0.42105263, 0.63157895])"
      ]
     },
     "execution_count": 8,
     "metadata": {},
     "output_type": "execute_result"
    }
   ],
   "source": [
    "#Your code; plot power curves for the various alpha and effect size combinations\n",
    "\n",
    "mean_diffs = np.array([.005, .01, .02, .03])\n",
    "effect_sizes = mean_diffs/0.0475\n",
    "effect_sizes"
   ]
  },
  {
   "cell_type": "code",
   "execution_count": 10,
   "metadata": {},
   "outputs": [
    {
     "data": {
      "image/png": "[encoded data removed]",
      "text/plain": [
       "<Figure size 432x288 with 1 Axes>"
      ]
     },
     "metadata": {
      "needs_background": "light"
     },
     "output_type": "display_data"
    }
   ],
   "source": [
    "power_analysis.plot_power(\n",
    "dep_var='nobs',\n",
    "nobs = np.array(range(5,1500)),\n",
    "effect_size=effect_sizes),\n",
    "alpha=np.array([0.01, 0.5, 0.1])\n",
    "\n",
    "plt.show()"
   ]
  },
  {
   "cell_type": "markdown",
   "metadata": {},
   "source": [
    "## Step 5: Propose a Final Experimental Design\n",
    "\n",
    "Finally, now that you've explored some of the various sample sizes required for statistical tests of varying power, effect size and type I errors, propose an experimental design to pitch to your boss and some of the accompanying advantages or disadvantages with it."
   ]
  },
  {
   "cell_type": "markdown",
   "metadata": {},
   "source": [
    "### Your answer here"
   ]
  },
  {
   "cell_type": "markdown",
   "metadata": {},
   "source": [
    "We already know that the current email template has outperformed previous email templates we've tried, so we have reason to believe it's already good. As we test the new email template to find out if it's better, there is some risk that the new email template may actually perform worse than the current one.\n",
    "\n",
    "To balance the risk of the new template performing worse than the current one, I propose using a sample size of 90 emails, which will be able to detect a change of of 2% in response rate at a power of 0.8 and alpha 0.05. This is a small enough sample that we're still sending the current, proven email template to most of our customers, but we have a good chance of detecting a modest change in response rate. \n",
    "\n",
    "If the result is positive but not significant at an effect size of 2%, we can repeat the experiment using a sample size of 355, which will have a good chance of detecting an effect size of 1% at the same power and alpha level."
   ]
  },
  {
   "cell_type": "markdown",
   "metadata": {},
   "source": [
    "## Summary\n",
    "\n",
    "In this lab, you practiced designing an initial experiment and then refined the parameters of the experiment based on an initial sample to determine feasibility."
   ]
  }
 ],
 "metadata": {
  "kernelspec": {
   "display_name": "Python 3",
   "language": "python",
   "name": "python3"
  },
  "language_info": {
   "codemirror_mode": {
    "name": "ipython",
    "version": 3
   },
   "file_extension": ".py",
   "mimetype": "text/x-python",
   "name": "python",
   "nbconvert_exporter": "python",
   "pygments_lexer": "ipython3",
   "version": "3.8.5"
  },
  "toc": {
   "base_numbering": 1,
   "nav_menu": {},
   "number_sections": true,
   "sideBar": true,
   "skip_h1_title": false,
   "title_cell": "Table of Contents",
   "title_sidebar": "Contents",
   "toc_cell": false,
   "toc_position": {},
   "toc_section_display": true,
   "toc_window_display": false
  },
  "varInspector": {
   "cols": {
    "lenName": 16,
    "lenType": 16,
    "lenVar": 40
   },
   "kernels_config": {
    "python": {
     "delete_cmd_postfix": "",
     "delete_cmd_prefix": "del ",
     "library": "var_list.py",
     "varRefreshCmd": "print(var_dic_list())"
    },
    "r": {
     "delete_cmd_postfix": ") ",
     "delete_cmd_prefix": "rm(",
     "library": "var_list.r",
     "varRefreshCmd": "cat(var_dic_list()) "
    }
   },
   "types_to_exclude": [
    "module",
    "function",
    "builtin_function_or_method",
    "instance",
    "_Feature"
   ],
   "window_display": false
  }
 },
 "nbformat": 4,
 "nbformat_minor": 2
}
